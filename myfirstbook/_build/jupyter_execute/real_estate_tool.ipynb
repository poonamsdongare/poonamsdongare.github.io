{
 "cells": [
  {
   "cell_type": "markdown",
   "metadata": {},
   "source": [
    "# A Recommendation Tool for Real-Estate Neighborhood Search"
   ]
  },
  {
   "cell_type": "markdown",
   "metadata": {},
   "source": [
    "Link to full paper (pdf): <a href=https://github.com/pkalan-gatech/pkalan-gatech.github.io/blob/main/myfirstbook/CSE6242_Group_Project_Poster.pdf>CSE6242_Group_Project_Poster.pdf</a>\\\n",
    "Authors: Pankaj Kalan, Morteza Maleki, Brad Beattie, Nivedita Sengupta, Poonam Dongare, Yidan Fu"
   ]
  },
  {
   "cell_type": "markdown",
   "metadata": {},
   "source": [
    "### Introduction\n",
    "Accurate information is essential to good decision-making. This is especially true when relocating or investing in real estate. We propose a recommendation tool to aid in selecting a neighborhood. When relocating to a new city, what tools are available to aid in selecting a neighborhood that suits personal preferences? How can one sort through the various attributes that could impact that decision and create a rational analysis in an unfamiliar place? This question and our project could potentially affect anyone involved in searching for a new place to live, investing in real estate, or researching these topics. Currently available commercial tools (Zillow, Realtor, Trulia, Apartments.com) focus on available inventory and provide the user with some selection of limited attributes closely related to those properties but fail to consider these other essential decision attributes."
   ]
  },
  {
   "cell_type": "markdown",
   "metadata": {},
   "source": [
    "### Tool demonstration\n",
    "Lily (26-year-old female) recently got a tech job in Georgia and is searching for a good neighborhood to rent a house.\\\n",
    "She gives high priority to personal safety. She is interested in making new friends and date people.\\\n",
    "She would like to live closer to nature and amenities.\\\n",
    "Let us see how our tool can help her.\n"
   ]
  },
  {
   "cell_type": "markdown",
   "metadata": {},
   "source": [
    "<img src=\"example.png\" alt=\"Tool demonstration\" title=\"Tool demonstration\" width=\"800\"/>\n"
   ]
  },
  {
   "cell_type": "markdown",
   "metadata": {},
   "source": [
    "<img src=\"myfirstbook/example.png\" alt=\"fishy\" class=\"bg-primary\" width=\"200px\">"
   ]
  },
  {
   "cell_type": "markdown",
   "metadata": {},
   "source": []
  }
 ],
 "metadata": {
  "colab": {
   "include_colab_link": true,
   "provenance": []
  },
  "kernelspec": {
   "display_name": "Python 3",
   "name": "python3"
  },
  "language_info": {
   "codemirror_mode": {
    "name": "ipython",
    "version": 3
   },
   "file_extension": ".py",
   "mimetype": "text/x-python",
   "name": "python",
   "nbconvert_exporter": "python",
   "pygments_lexer": "ipython3",
   "version": "3.10.13"
  }
 },
 "nbformat": 4,
 "nbformat_minor": 0
}